{
 "cells": [
  {
   "cell_type": "code",
   "execution_count": 123,
   "id": "1975ba05",
   "metadata": {},
   "outputs": [],
   "source": [
    "import matplotlib.pyplot as plt\n",
    "import numpy as np\n",
    "import pandas as pd\n",
    "import seaborn as sns\n",
    "\n",
    "# Make NumPy printouts easier to read.\n",
    "np.set_printoptions(precision=3, suppress=True)"
   ]
  },
  {
   "cell_type": "code",
   "execution_count": 124,
   "id": "3c24f0a3",
   "metadata": {},
   "outputs": [
    {
     "name": "stdout",
     "output_type": "stream",
     "text": [
      "2.10.0\n"
     ]
    }
   ],
   "source": [
    "import tensorflow as tf\n",
    "\n",
    "from tensorflow import keras\n",
    "from tensorflow.keras import layers\n",
    "\n",
    "print(tf.__version__)"
   ]
  },
  {
   "cell_type": "code",
   "execution_count": 125,
   "id": "3d9a9ba5",
   "metadata": {
    "scrolled": true
   },
   "outputs": [
    {
     "name": "stdout",
     "output_type": "stream",
     "text": [
      "      target  output\n",
      "0     1056.0   39.07\n",
      "1     2600.0  120.00\n",
      "2     1440.0   62.00\n",
      "3     1521.0   95.00\n",
      "4     1200.0   51.00\n",
      "...      ...     ...\n",
      "2152  5000.0  300.00\n",
      "2153  2150.0  240.00\n",
      "2154  1635.0   57.00\n",
      "2155  3425.0  320.00\n",
      "2156   550.0   17.00\n",
      "\n",
      "[2157 rows x 2 columns]\n"
     ]
    }
   ],
   "source": [
    "raw_dataset=pd.read_csv('reg.csv')\n",
    "print(raw_dataset)"
   ]
  },
  {
   "cell_type": "code",
   "execution_count": 126,
   "id": "57088050",
   "metadata": {},
   "outputs": [
    {
     "data": {
      "text/html": [
       "<div>\n",
       "<style scoped>\n",
       "    .dataframe tbody tr th:only-of-type {\n",
       "        vertical-align: middle;\n",
       "    }\n",
       "\n",
       "    .dataframe tbody tr th {\n",
       "        vertical-align: top;\n",
       "    }\n",
       "\n",
       "    .dataframe thead th {\n",
       "        text-align: right;\n",
       "    }\n",
       "</style>\n",
       "<table border=\"1\" class=\"dataframe\">\n",
       "  <thead>\n",
       "    <tr style=\"text-align: right;\">\n",
       "      <th></th>\n",
       "      <th>target</th>\n",
       "      <th>output</th>\n",
       "    </tr>\n",
       "  </thead>\n",
       "  <tbody>\n",
       "    <tr>\n",
       "      <th>2152</th>\n",
       "      <td>5000.0</td>\n",
       "      <td>300.0</td>\n",
       "    </tr>\n",
       "    <tr>\n",
       "      <th>2153</th>\n",
       "      <td>2150.0</td>\n",
       "      <td>240.0</td>\n",
       "    </tr>\n",
       "    <tr>\n",
       "      <th>2154</th>\n",
       "      <td>1635.0</td>\n",
       "      <td>57.0</td>\n",
       "    </tr>\n",
       "    <tr>\n",
       "      <th>2155</th>\n",
       "      <td>3425.0</td>\n",
       "      <td>320.0</td>\n",
       "    </tr>\n",
       "    <tr>\n",
       "      <th>2156</th>\n",
       "      <td>550.0</td>\n",
       "      <td>17.0</td>\n",
       "    </tr>\n",
       "  </tbody>\n",
       "</table>\n",
       "</div>"
      ],
      "text/plain": [
       "      target  output\n",
       "2152  5000.0   300.0\n",
       "2153  2150.0   240.0\n",
       "2154  1635.0    57.0\n",
       "2155  3425.0   320.0\n",
       "2156   550.0    17.0"
      ]
     },
     "execution_count": 126,
     "metadata": {},
     "output_type": "execute_result"
    }
   ],
   "source": [
    "dataset = raw_dataset.copy()\n",
    "dataset.tail()"
   ]
  },
  {
   "cell_type": "code",
   "execution_count": 127,
   "id": "df7d60b9",
   "metadata": {},
   "outputs": [],
   "source": [
    "train_dataset = dataset.sample(frac=0.95, random_state=0)\n",
    "test_dataset = dataset.drop(train_dataset.index)"
   ]
  },
  {
   "cell_type": "code",
   "execution_count": 128,
   "id": "0d012acb",
   "metadata": {},
   "outputs": [
    {
     "data": {
      "text/html": [
       "<div>\n",
       "<style scoped>\n",
       "    .dataframe tbody tr th:only-of-type {\n",
       "        vertical-align: middle;\n",
       "    }\n",
       "\n",
       "    .dataframe tbody tr th {\n",
       "        vertical-align: top;\n",
       "    }\n",
       "\n",
       "    .dataframe thead th {\n",
       "        text-align: right;\n",
       "    }\n",
       "</style>\n",
       "<table border=\"1\" class=\"dataframe\">\n",
       "  <thead>\n",
       "    <tr style=\"text-align: right;\">\n",
       "      <th></th>\n",
       "      <th>count</th>\n",
       "      <th>mean</th>\n",
       "      <th>std</th>\n",
       "      <th>min</th>\n",
       "      <th>25%</th>\n",
       "      <th>50%</th>\n",
       "      <th>75%</th>\n",
       "      <th>max</th>\n",
       "    </tr>\n",
       "  </thead>\n",
       "  <tbody>\n",
       "    <tr>\n",
       "      <th>target</th>\n",
       "      <td>2049.0</td>\n",
       "      <td>1562.022562</td>\n",
       "      <td>1201.265818</td>\n",
       "      <td>5.31</td>\n",
       "      <td>1100.0</td>\n",
       "      <td>1270.00</td>\n",
       "      <td>1676.0</td>\n",
       "      <td>35000.0</td>\n",
       "    </tr>\n",
       "    <tr>\n",
       "      <th>output</th>\n",
       "      <td>2049.0</td>\n",
       "      <td>109.820039</td>\n",
       "      <td>135.188282</td>\n",
       "      <td>10.00</td>\n",
       "      <td>50.0</td>\n",
       "      <td>73.87</td>\n",
       "      <td>121.0</td>\n",
       "      <td>2200.0</td>\n",
       "    </tr>\n",
       "  </tbody>\n",
       "</table>\n",
       "</div>"
      ],
      "text/plain": [
       "         count         mean          std    min     25%      50%     75%  \\\n",
       "target  2049.0  1562.022562  1201.265818   5.31  1100.0  1270.00  1676.0   \n",
       "output  2049.0   109.820039   135.188282  10.00    50.0    73.87   121.0   \n",
       "\n",
       "            max  \n",
       "target  35000.0  \n",
       "output   2200.0  "
      ]
     },
     "execution_count": 128,
     "metadata": {},
     "output_type": "execute_result"
    }
   ],
   "source": [
    "train_dataset.describe().transpose()"
   ]
  },
  {
   "cell_type": "code",
   "execution_count": 129,
   "id": "4acc84ad",
   "metadata": {},
   "outputs": [],
   "source": [
    "#Separate the target value—the \"label\"—from the features. This label is the value that you will train the model to predict.\n",
    "train_features = train_dataset.copy()\n",
    "test_features = test_dataset.copy()\n",
    "\n",
    "train_labels = train_features.pop('output')\n",
    "test_labels = test_features.pop('output')"
   ]
  },
  {
   "cell_type": "code",
   "execution_count": 130,
   "id": "c9035a8f",
   "metadata": {},
   "outputs": [
    {
     "data": {
      "text/html": [
       "<div>\n",
       "<style scoped>\n",
       "    .dataframe tbody tr th:only-of-type {\n",
       "        vertical-align: middle;\n",
       "    }\n",
       "\n",
       "    .dataframe tbody tr th {\n",
       "        vertical-align: top;\n",
       "    }\n",
       "\n",
       "    .dataframe thead th {\n",
       "        text-align: right;\n",
       "    }\n",
       "</style>\n",
       "<table border=\"1\" class=\"dataframe\">\n",
       "  <thead>\n",
       "    <tr style=\"text-align: right;\">\n",
       "      <th></th>\n",
       "      <th>mean</th>\n",
       "      <th>std</th>\n",
       "    </tr>\n",
       "  </thead>\n",
       "  <tbody>\n",
       "    <tr>\n",
       "      <th>target</th>\n",
       "      <td>1562.022562</td>\n",
       "      <td>1201.265818</td>\n",
       "    </tr>\n",
       "    <tr>\n",
       "      <th>output</th>\n",
       "      <td>109.820039</td>\n",
       "      <td>135.188282</td>\n",
       "    </tr>\n",
       "  </tbody>\n",
       "</table>\n",
       "</div>"
      ],
      "text/plain": [
       "               mean          std\n",
       "target  1562.022562  1201.265818\n",
       "output   109.820039   135.188282"
      ]
     },
     "execution_count": 130,
     "metadata": {},
     "output_type": "execute_result"
    }
   ],
   "source": [
    "#In the table of statistics it's easy to see how different the ranges of each feature are:\n",
    "train_dataset.describe().transpose()[['mean', 'std']]"
   ]
  },
  {
   "cell_type": "code",
   "execution_count": 131,
   "id": "22d0f149",
   "metadata": {},
   "outputs": [],
   "source": [
    "#The tf.keras.layers.Normalization is a clean and simple way to add feature normalization into your model.\n",
    "#The first step is to create the layer:\n",
    "normalizer = tf.keras.layers.Normalization(axis=-1)"
   ]
  },
  {
   "cell_type": "code",
   "execution_count": 132,
   "id": "12a7f1e9",
   "metadata": {},
   "outputs": [],
   "source": [
    "#Then, fit the state of the preprocessing layer to the data by calling Normalization.adapt:\n",
    "normalizer.adapt(np.array(train_features).astype(np.float32))"
   ]
  },
  {
   "cell_type": "code",
   "execution_count": 133,
   "id": "b83d9236",
   "metadata": {},
   "outputs": [
    {
     "name": "stdout",
     "output_type": "stream",
     "text": [
      "[[1562.023]]\n"
     ]
    }
   ],
   "source": [
    "#Calculate the mean and variance, and store them in the layer:\n",
    "print(normalizer.mean.numpy())"
   ]
  },
  {
   "cell_type": "code",
   "execution_count": 134,
   "id": "8b045741",
   "metadata": {},
   "outputs": [
    {
     "name": "stdout",
     "output_type": "stream",
     "text": [
      "First example: [[4000.]]\n",
      "\n",
      "Normalized: [[2.03]]\n"
     ]
    }
   ],
   "source": [
    "first = np.array(train_features[:1])\n",
    "\n",
    "with np.printoptions(precision=2, suppress=True):\n",
    "    print('First example:', first)\n",
    "    print()\n",
    "    print('Normalized:', normalizer(first).numpy())"
   ]
  },
  {
   "cell_type": "code",
   "execution_count": 135,
   "id": "30db144a",
   "metadata": {},
   "outputs": [],
   "source": [
    "#Begin with a single-variable linear regression to predict 'Output' from 'target'\n",
    "target = np.array(train_features['target'])\n",
    "\n",
    "target_normalizer = layers.Normalization(input_shape=[1,], axis=None)\n",
    "target_normalizer.adapt(target)"
   ]
  },
  {
   "cell_type": "code",
   "execution_count": 136,
   "id": "a06a123d",
   "metadata": {},
   "outputs": [
    {
     "name": "stdout",
     "output_type": "stream",
     "text": [
      "Model: \"sequential_4\"\n",
      "_________________________________________________________________\n",
      " Layer (type)                Output Shape              Param #   \n",
      "=================================================================\n",
      " normalization_7 (Normalizat  (None, 1)                3         \n",
      " ion)                                                            \n",
      "                                                                 \n",
      " dense_8 (Dense)             (None, 1)                 2         \n",
      "                                                                 \n",
      "=================================================================\n",
      "Total params: 5\n",
      "Trainable params: 2\n",
      "Non-trainable params: 3\n",
      "_________________________________________________________________\n"
     ]
    }
   ],
   "source": [
    "#Normalize the 'target' input features using the tf.keras.layers.Normalization preprocessing layer.\n",
    "#Apply a linear transformation () to produce 1 output using a linear layer (tf.keras.layers.Dense).\n",
    "target_model = tf.keras.Sequential([\n",
    "    target_normalizer,\n",
    "    layers.Dense(units=1)\n",
    "])\n",
    "\n",
    "target_model.summary()"
   ]
  },
  {
   "cell_type": "code",
   "execution_count": 137,
   "id": "00462057",
   "metadata": {},
   "outputs": [
    {
     "name": "stdout",
     "output_type": "stream",
     "text": [
      "1/1 [==============================] - 0s 63ms/step\n"
     ]
    },
    {
     "data": {
      "text/plain": [
       "array([[ 1.053],\n",
       "       [-0.059],\n",
       "       [-0.327],\n",
       "       [-0.264],\n",
       "       [-0.031],\n",
       "       [-0.175],\n",
       "       [ 0.66 ],\n",
       "       [ 0.448],\n",
       "       [-0.126],\n",
       "       [ 0.034]], dtype=float32)"
      ]
     },
     "execution_count": 137,
     "metadata": {},
     "output_type": "execute_result"
    }
   ],
   "source": [
    "#Run the untrained model on the first 10 'target' values. The output won't be good, but notice that it has the expected shape of (10, 1):\n",
    "target_model.predict(target[:10])"
   ]
  },
  {
   "cell_type": "code",
   "execution_count": 138,
   "id": "aa0ce76c",
   "metadata": {},
   "outputs": [],
   "source": [
    "#Once the model is built, configure the training procedure using the Keras Model.compile method. \n",
    "#The most important arguments to compile are the loss and the optimizer, \n",
    "#since these define what will be optimized (mean_absolute_error) and how (using the tf.keras.optimizers.Adam).\n",
    "target_model.compile(\n",
    "    optimizer=tf.keras.optimizers.Adam(learning_rate=0.1),\n",
    "    loss='mean_absolute_error')"
   ]
  },
  {
   "cell_type": "code",
   "execution_count": 140,
   "id": "49b82499",
   "metadata": {},
   "outputs": [
    {
     "name": "stdout",
     "output_type": "stream",
     "text": [
      "Wall time: 9.03 s\n"
     ]
    }
   ],
   "source": [
    "%%time\n",
    "history = target_model.fit(\n",
    "    train_features['target'],\n",
    "    train_labels,\n",
    "    epochs=100,\n",
    "    # Suppress logging.\n",
    "    verbose=0,\n",
    "    # Calculate validation results on 20% of the training data.\n",
    "    validation_split = 0.2)"
   ]
  },
  {
   "cell_type": "code",
   "execution_count": 141,
   "id": "264fe4ac",
   "metadata": {},
   "outputs": [
    {
     "data": {
      "text/html": [
       "<div>\n",
       "<style scoped>\n",
       "    .dataframe tbody tr th:only-of-type {\n",
       "        vertical-align: middle;\n",
       "    }\n",
       "\n",
       "    .dataframe tbody tr th {\n",
       "        vertical-align: top;\n",
       "    }\n",
       "\n",
       "    .dataframe thead th {\n",
       "        text-align: right;\n",
       "    }\n",
       "</style>\n",
       "<table border=\"1\" class=\"dataframe\">\n",
       "  <thead>\n",
       "    <tr style=\"text-align: right;\">\n",
       "      <th></th>\n",
       "      <th>loss</th>\n",
       "      <th>val_loss</th>\n",
       "      <th>epoch</th>\n",
       "    </tr>\n",
       "  </thead>\n",
       "  <tbody>\n",
       "    <tr>\n",
       "      <th>95</th>\n",
       "      <td>40.335243</td>\n",
       "      <td>40.223495</td>\n",
       "      <td>95</td>\n",
       "    </tr>\n",
       "    <tr>\n",
       "      <th>96</th>\n",
       "      <td>40.336315</td>\n",
       "      <td>40.212151</td>\n",
       "      <td>96</td>\n",
       "    </tr>\n",
       "    <tr>\n",
       "      <th>97</th>\n",
       "      <td>40.337276</td>\n",
       "      <td>40.208923</td>\n",
       "      <td>97</td>\n",
       "    </tr>\n",
       "    <tr>\n",
       "      <th>98</th>\n",
       "      <td>40.338528</td>\n",
       "      <td>40.206482</td>\n",
       "      <td>98</td>\n",
       "    </tr>\n",
       "    <tr>\n",
       "      <th>99</th>\n",
       "      <td>40.342617</td>\n",
       "      <td>40.192101</td>\n",
       "      <td>99</td>\n",
       "    </tr>\n",
       "  </tbody>\n",
       "</table>\n",
       "</div>"
      ],
      "text/plain": [
       "         loss   val_loss  epoch\n",
       "95  40.335243  40.223495     95\n",
       "96  40.336315  40.212151     96\n",
       "97  40.337276  40.208923     97\n",
       "98  40.338528  40.206482     98\n",
       "99  40.342617  40.192101     99"
      ]
     },
     "execution_count": 141,
     "metadata": {},
     "output_type": "execute_result"
    }
   ],
   "source": [
    "#Visualize the model's training progress using the stats stored in the history object:\n",
    "hist = pd.DataFrame(history.history)\n",
    "hist['epoch'] = history.epoch\n",
    "hist.tail()"
   ]
  },
  {
   "cell_type": "code",
   "execution_count": 162,
   "id": "12ef6445",
   "metadata": {},
   "outputs": [],
   "source": [
    "#Collect the results on the test set for later:\n",
    "def plot_loss(history):\n",
    "    plt.plot(history.history['loss'], label='loss')\n",
    "    plt.plot(history.history['val_loss'], label='val_loss')\n",
    "    plt.ylim([0, 125])\n",
    "    plt.xlabel('Epoch')\n",
    "    plt.ylabel('Error [Output]')\n",
    "    plt.legend()\n",
    "    plt.grid(True)"
   ]
  },
  {
   "cell_type": "code",
   "execution_count": 163,
   "id": "65139cfa",
   "metadata": {},
   "outputs": [
    {
     "data": {
      "image/png": "[encoded data removed]",
      "text/plain": [
       "<Figure size 432x288 with 1 Axes>"
      ]
     },
     "metadata": {
      "needs_background": "light"
     },
     "output_type": "display_data"
    }
   ],
   "source": [
    "plot_loss(history)"
   ]
  },
  {
   "cell_type": "code",
   "execution_count": 144,
   "id": "c64b9e61",
   "metadata": {},
   "outputs": [],
   "source": [
    "test_results = {}\n",
    "\n",
    "test_results['target_model'] = target_model.evaluate(\n",
    "    test_features['target'],\n",
    "    test_labels, verbose=0)"
   ]
  },
  {
   "cell_type": "code",
   "execution_count": 145,
   "id": "98a90554",
   "metadata": {},
   "outputs": [
    {
     "name": "stdout",
     "output_type": "stream",
     "text": [
      "94/94 [==============================] - 0s 938us/step\n"
     ]
    }
   ],
   "source": [
    "#Since this is a single variable regression, it's easy to view the model's predictions as a function of the input:\n",
    "x = tf.linspace(0, 10000, 3001)\n",
    "y = target_model.predict(x)"
   ]
  },
  {
   "cell_type": "code",
   "execution_count": 146,
   "id": "04d5f390",
   "metadata": {},
   "outputs": [],
   "source": [
    "def plot_target(x, y):\n",
    "    plt.scatter(train_features['target'], train_labels, label='Data')\n",
    "    plt.plot(x, y, color='k', label='Predictions')\n",
    "    plt.xlabel('target')\n",
    "    plt.ylabel('output')\n",
    "    plt.legend()"
   ]
  },
  {
   "cell_type": "code",
   "execution_count": 147,
   "id": "ef965bb1",
   "metadata": {},
   "outputs": [
    {
     "data": {
      "text/plain": [
       "641     660.00\n",
       "1344     65.00\n",
       "229      22.14\n",
       "458      46.96\n",
       "565      84.00\n",
       "         ...  \n",
       "1853    107.00\n",
       "1004     59.00\n",
       "323     165.00\n",
       "180      51.00\n",
       "1272     76.00\n",
       "Name: output, Length: 2049, dtype: float64"
      ]
     },
     "execution_count": 147,
     "metadata": {},
     "output_type": "execute_result"
    }
   ],
   "source": [
    "train_labels"
   ]
  },
  {
   "cell_type": "code",
   "execution_count": 148,
   "id": "36ed66b3",
   "metadata": {},
   "outputs": [
    {
     "data": {
      "image/png": "[encoded data removed]",
      "text/plain": [
       "<Figure size 432x288 with 1 Axes>"
      ]
     },
     "metadata": {
      "needs_background": "light"
     },
     "output_type": "display_data"
    }
   ],
   "source": [
    "plot_target(x, y)"
   ]
  },
  {
   "cell_type": "code",
   "execution_count": 149,
   "id": "61748a87",
   "metadata": {},
   "outputs": [],
   "source": [
    "#The code is basically the same except the model is expanded to include some \"hidden\" non-linear layers. The name \"hidden\" here just means not directly connected to the inputs or outputs.\n",
    "\n",
    "#These models will contain a few more layers than the linear model:\n",
    "\n",
    "#The normalization layer, as before (with target_normalizer for a single-input model and normalizer for a multiple-input model).\n",
    "#Two hidden, non-linear, Dense layers with the ReLU (relu) activation function nonlinearity.\n",
    "#A linear Dense single-output layer."
   ]
  },
  {
   "cell_type": "code",
   "execution_count": 150,
   "id": "a14461c8",
   "metadata": {},
   "outputs": [],
   "source": [
    "def build_and_compile_model(norm): \n",
    "    model = keras.Sequential([\n",
    "      norm,\n",
    "      layers.Dense(64, activation='relu'),\n",
    "      layers.Dense(64, activation='relu'),\n",
    "      layers.Dense(1)\n",
    "  ])\n",
    "    model.compile(loss='mean_absolute_error',\n",
    "                optimizer=tf.keras.optimizers.Adam(0.001))\n",
    "    return model\n"
   ]
  },
  {
   "cell_type": "code",
   "execution_count": 151,
   "id": "c9ea9b51",
   "metadata": {},
   "outputs": [],
   "source": [
    "#Since all models have been trained, you can review their test set performance:\n",
    "dnn_target_model = build_and_compile_model(target_normalizer)"
   ]
  },
  {
   "cell_type": "code",
   "execution_count": 152,
   "id": "3dbf3d25",
   "metadata": {},
   "outputs": [
    {
     "name": "stdout",
     "output_type": "stream",
     "text": [
      "Model: \"sequential_5\"\n",
      "_________________________________________________________________\n",
      " Layer (type)                Output Shape              Param #   \n",
      "=================================================================\n",
      " normalization_7 (Normalizat  (None, 1)                3         \n",
      " ion)                                                            \n",
      "                                                                 \n",
      " dense_9 (Dense)             (None, 64)                128       \n",
      "                                                                 \n",
      " dense_10 (Dense)            (None, 64)                4160      \n",
      "                                                                 \n",
      " dense_11 (Dense)            (None, 1)                 65        \n",
      "                                                                 \n",
      "=================================================================\n",
      "Total params: 4,356\n",
      "Trainable params: 4,353\n",
      "Non-trainable params: 3\n",
      "_________________________________________________________________\n"
     ]
    }
   ],
   "source": [
    "dnn_target_model.summary()"
   ]
  },
  {
   "cell_type": "code",
   "execution_count": 153,
   "id": "2cac88cb",
   "metadata": {},
   "outputs": [
    {
     "name": "stdout",
     "output_type": "stream",
     "text": [
      "Wall time: 10.2 s\n"
     ]
    }
   ],
   "source": [
    "%%time\n",
    "history = dnn_target_model.fit(\n",
    "    train_features['target'],\n",
    "    train_labels,\n",
    "    validation_split=0.2,\n",
    "    verbose=0, epochs=100)"
   ]
  },
  {
   "cell_type": "code",
   "execution_count": 164,
   "id": "22d1245e",
   "metadata": {},
   "outputs": [
    {
     "data": {
      "image/png": "[encoded data removed]",
      "text/plain": [
       "<Figure size 432x288 with 1 Axes>"
      ]
     },
     "metadata": {
      "needs_background": "light"
     },
     "output_type": "display_data"
    }
   ],
   "source": [
    "plot_loss(history)"
   ]
  },
  {
   "cell_type": "code",
   "execution_count": 155,
   "id": "070ecd95",
   "metadata": {},
   "outputs": [
    {
     "name": "stdout",
     "output_type": "stream",
     "text": [
      "63/63 [==============================] - 0s 1ms/step\n"
     ]
    }
   ],
   "source": [
    "x = tf.linspace(0, 10000, 2001)\n",
    "y = dnn_target_model.predict(x)"
   ]
  },
  {
   "cell_type": "code",
   "execution_count": 156,
   "id": "ea9d4388",
   "metadata": {},
   "outputs": [
    {
     "data": {
      "image/png": "[encoded data removed]",
      "text/plain": [
       "<Figure size 432x288 with 1 Axes>"
      ]
     },
     "metadata": {
      "needs_background": "light"
     },
     "output_type": "display_data"
    }
   ],
   "source": [
    "plot_target(x, y)"
   ]
  },
  {
   "cell_type": "code",
   "execution_count": 157,
   "id": "4c293a6b",
   "metadata": {},
   "outputs": [],
   "source": [
    "test_results['dnn_target_model'] = dnn_target_model.evaluate(\n",
    "    test_features['target'], test_labels,\n",
    "    verbose=0)"
   ]
  },
  {
   "cell_type": "code",
   "execution_count": 160,
   "id": "5b607806",
   "metadata": {},
   "outputs": [
    {
     "data": {
      "text/html": [
       "<div>\n",
       "<style scoped>\n",
       "    .dataframe tbody tr th:only-of-type {\n",
       "        vertical-align: middle;\n",
       "    }\n",
       "\n",
       "    .dataframe tbody tr th {\n",
       "        vertical-align: top;\n",
       "    }\n",
       "\n",
       "    .dataframe thead th {\n",
       "        text-align: right;\n",
       "    }\n",
       "</style>\n",
       "<table border=\"1\" class=\"dataframe\">\n",
       "  <thead>\n",
       "    <tr style=\"text-align: right;\">\n",
       "      <th></th>\n",
       "      <th>Mean absolute error [output]</th>\n",
       "    </tr>\n",
       "  </thead>\n",
       "  <tbody>\n",
       "    <tr>\n",
       "      <th>target_model</th>\n",
       "      <td>78.528450</td>\n",
       "    </tr>\n",
       "    <tr>\n",
       "      <th>dnn_target_model</th>\n",
       "      <td>78.435196</td>\n",
       "    </tr>\n",
       "  </tbody>\n",
       "</table>\n",
       "</div>"
      ],
      "text/plain": [
       "                  Mean absolute error [output]\n",
       "target_model                         78.528450\n",
       "dnn_target_model                     78.435196"
      ]
     },
     "execution_count": 160,
     "metadata": {},
     "output_type": "execute_result"
    }
   ],
   "source": [
    "pd.DataFrame(test_results, index=['Mean absolute error [output]']).T"
   ]
  },
  {
   "cell_type": "code",
   "execution_count": 161,
   "id": "b5bb51e9",
   "metadata": {},
   "outputs": [
    {
     "name": "stdout",
     "output_type": "stream",
     "text": [
      "4/4 [==============================] - 0s 3ms/step\n"
     ]
    },
    {
     "data": {
      "image/png": "[encoded data removed]",
      "text/plain": [
       "<Figure size 432x288 with 1 Axes>"
      ]
     },
     "metadata": {
      "needs_background": "light"
     },
     "output_type": "display_data"
    }
   ],
   "source": [
    "test_predictions = dnn_target_model.predict(test_features).flatten()\n",
    "\n",
    "a = plt.axes(aspect='equal')\n",
    "plt.scatter(test_labels, test_predictions)\n",
    "plt.xlabel('True Values [output]')\n",
    "plt.ylabel('Predictions [output]')\n",
    "lims = [0, 260]\n",
    "plt.xlim(lims)\n",
    "plt.ylim(lims)\n",
    "_ = plt.plot(lims, lims)"
   ]
  },
  {
   "cell_type": "code",
   "execution_count": null,
   "id": "b837cecd",
   "metadata": {},
   "outputs": [],
   "source": []
  }
 ],
 "metadata": {
  "kernelspec": {
   "display_name": "Python 3",
   "language": "python",
   "name": "python3"
  },
  "language_info": {
   "codemirror_mode": {
    "name": "ipython",
    "version": 3
   },
   "file_extension": ".py",
   "mimetype": "text/x-python",
   "name": "python",
   "nbconvert_exporter": "python",
   "pygments_lexer": "ipython3",
   "version": "3.8.8"
  }
 },
 "nbformat": 4,
 "nbformat_minor": 5
}
